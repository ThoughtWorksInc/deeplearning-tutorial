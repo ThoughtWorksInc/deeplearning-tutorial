{
 "cells": [
  {
   "cell_type": "markdown",
   "metadata": {},
   "source": [
    "## 如何查看数据在神经网络中的某个阶段的状态"
   ]
  },
  {
   "cell_type": "markdown",
   "metadata": {},
   "source": [
    "### 以softmax一节代码为例"
   ]
  },
  {
   "cell_type": "markdown",
   "metadata": {},
   "source": [
    "原来的代码是这样的：\n",
    "```scala\n",
    "  def softmax(implicit scores: From[INDArray] ##T): To[INDArray] ##T = {\n",
    "    val expScores = exp(scores)\n",
    "    expScores / expScores.sum(1)\n",
    "  }\n",
    "```\n",
    "假如要查看`exp(scores)`后的状态，需要在`exp(scores)`后添加一行代码，如下：\n",
    "```scala\n",
    "  def softmax(implicit scores: From[INDArray] ##T): To[INDArray] ##T = {\n",
    "    val expScores: To[INDArray] ##T  = exp(scores)\n",
    "      .withOutputDataHook{ data: INDArray => println(data) }\n",
    "    expScores / expScores.sum(1)\n",
    "  }\n",
    "```\n",
    "\n",
    "也可以省略类型，简写成这样(可能有警告，可以选择无视)：\n",
    "\n",
    "```scala\n",
    "  def softmax(implicit scores: From[INDArray] ##T): To[INDArray] ##T = {\n",
    "    val expScores = exp(scores)\n",
    "      .withOutputDataHook{ data => println(data) }\n",
    "    expScores / expScores.sum(1)\n",
    "  }\n",
    "```\n",
    "\n",
    "`withOutputDataHook`在`com.thoughtworks.deeplearning#DifferentiableAny`下，方法签名如下：\n",
    "\n",
    "```scala\n",
    "def withOutputDataHook(hook: OutputData => Unit): Layer.Aux[Input, Batch.Aux[OutputData, OutputDelta]] = ???\n",
    "```\n",
    "\n",
    "调用这个方法时可以传入一个自定义方法来进行输出或者其它操作，同时可以在这个自定义方法上打断点来查看`exp(scores)`后的状态。\n",
    "假如不需要debug的时候可以注释掉新增的一行，不会影响其它地方的代码。"
   ]
  },
  {
   "cell_type": "markdown",
   "metadata": {},
   "source": [
    "[完整代码](https://github.com/izhangzhihao/deeplearning-tutorial/blob/master/src/main/scala/com/thoughtworks/deeplearning/tutorial/Debug.scala)"
   ]
  }
 ],
 "metadata": {
  "kernelspec": {
   "display_name": "Scala",
   "language": "scala",
   "name": "scala"
  },
  "language_info": {
   "codemirror_mode": "text/x-scala",
   "file_extension": ".scala",
   "mimetype": "text/x-scala",
   "name": "scala211",
   "nbconvert_exporter": "scala",
   "pygments_lexer": "scala",
   "version": "2.11.8"
  }
 },
 "nbformat": 4,
 "nbformat_minor": 0
}