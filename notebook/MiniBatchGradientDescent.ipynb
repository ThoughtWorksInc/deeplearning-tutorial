{
 "cells": [
  {
   "cell_type": "markdown",
   "metadata": {},
   "source": [
    "# Mini-Batch Gradient Descent"
   ]
  },
  {
   "cell_type": "markdown",
   "metadata": {},
   "source": [
    "## 背景\n",
    "\n",
    "通过使用小批量数据随机梯度下降快速实现神经网络参数更新。"
   ]
  },
  {
   "cell_type": "markdown",
   "metadata": {},
   "source": [
    "## 准备工作\n",
    "\n",
    "1.创建一个SBT项目，并引入相关依赖（参照[Getting Started](https://github.com/ThoughtWorksInc/DeepLearning.scala/wiki/Getting-Started) 或者将下面的依赖引入build.sbt, 注意DeepLearning.scala暂不支持scala2.12.X )\n",
    "```\n",
    "libraryDependencies += \"com.thoughtworks.deeplearning\" %% \"differentiableany\" % \"latest.release\"\n",
    "\n",
    "libraryDependencies += \"com.thoughtworks.deeplearning\" %% \"differentiablenothing\" % \"latest.release\"\n",
    "\n",
    "libraryDependencies += \"com.thoughtworks.deeplearning\" %% \"differentiableseq\" % \"latest.release\"\n",
    "\n",
    "libraryDependencies += \"com.thoughtworks.deeplearning\" %% \"differentiabledouble\" % \"latest.release\"\n",
    "\n",
    "libraryDependencies += \"com.thoughtworks.deeplearning\" %% \"differentiablefloat\" % \"latest.release\"\n",
    "\n",
    "libraryDependencies += \"com.thoughtworks.deeplearning\" %% \"differentiablehlist\" % \"latest.release\"\n",
    "\n",
    "libraryDependencies += \"com.thoughtworks.deeplearning\" %% \"differentiablecoproduct\" % \"latest.release\"\n",
    "\n",
    "libraryDependencies += \"com.thoughtworks.deeplearning\" %% \"differentiableindarray\" % \"latest.release\"\n",
    "\n",
    "addCompilerPlugin(\"com.thoughtworks.implicit-dependent-type\" %% \"implicit-dependent-type\" % \"latest.release\")\n",
    "\n",
    "addCompilerPlugin(\"org.scalamacros\" % \"paradise\" % \"2.1.0\" cross CrossVersion.full)\n",
    "\n",
    "fork := true\n",
    "```\n",
    "2.[下载CIFAR-10 binary version (suitable for C programs)](https://www.cs.toronto.edu/~kriz/cifar-10-binary.tar.gz)，文件大小162 MB，md5sum：c32a1d4ab5d03f1284b67883e8d87530\n",
    "\n",
    "3.将下载好的文件解压到src/main/resources目录。\n",
    "\n",
    "4.新建一个Scala类ReadCIFAR10ToNDArray,这个类用于从上面的文件中读取图片及其标签数据并做归一化处理（[更多信息](https://www.cs.toronto.edu/~kriz/cifar.html)）,并增加若干方法和属性。代码如下："
   ]
  },
  {
   "cell_type": "code",
   "execution_count": null,
   "metadata": {
    "collapsed": false
   },
   "outputs": [],
   "source": [
    "import $plugin.$ivy.`com.thoughtworks.implicit-dependent-type::implicit-dependent-type:1.0.0`\n",
    "\n",
    "import $ivy.`com.thoughtworks.deeplearning::differentiableany:1.0.0-RC5`\n",
    "import $ivy.`com.thoughtworks.deeplearning::differentiablenothing:1.0.0-RC5`\n",
    "import $ivy.`com.thoughtworks.deeplearning::differentiableseq:1.0.0-RC5`\n",
    "import $ivy.`com.thoughtworks.deeplearning::differentiabledouble:1.0.0-RC5`\n",
    "import $ivy.`com.thoughtworks.deeplearning::differentiablefloat:1.0.0-RC5`\n",
    "import $ivy.`com.thoughtworks.deeplearning::differentiablehlist:1.0.0-RC5`\n",
    "import $ivy.`com.thoughtworks.deeplearning::differentiablecoproduct:1.0.0-RC5`\n",
    "import $ivy.`com.thoughtworks.deeplearning::differentiableindarray:1.0.0-RC5`\n",
    "\n",
    "import $ivy.`org.plotly-scala::plotly-jupyter-scala:0.3.0`\n",
    "\n",
    "import java.io.{FileInputStream, InputStream}\n",
    "\n",
    "\n",
    "import com.thoughtworks.deeplearning\n",
    "import org.nd4j.linalg.api.ndarray.INDArray\n",
    "import com.thoughtworks.deeplearning.DifferentiableHList._\n",
    "import com.thoughtworks.deeplearning.DifferentiableDouble._\n",
    "import com.thoughtworks.deeplearning.DifferentiableINDArray._\n",
    "import com.thoughtworks.deeplearning.DifferentiableAny._\n",
    "import com.thoughtworks.deeplearning.DifferentiableINDArray.Optimizers._\n",
    "import com.thoughtworks.deeplearning.{DifferentiableHList, DifferentiableINDArray, Layer}\n",
    "import com.thoughtworks.deeplearning.Layer.Batch\n",
    "import com.thoughtworks.deeplearning.Lift.Layers.Identity\n",
    "import com.thoughtworks.deeplearning.Lift._\n",
    "import com.thoughtworks.deeplearning.Poly.MathFunctions._\n",
    "import com.thoughtworks.deeplearning.Poly.MathMethods./\n",
    "import com.thoughtworks.deeplearning.Poly.MathOps\n",
    "import org.nd4j.linalg.api.ndarray.INDArray\n",
    "import org.nd4j.linalg.cpu.nativecpu.NDArray\n",
    "import org.nd4j.linalg.factory.Nd4j\n",
    "import org.nd4j.linalg.indexing.{INDArrayIndex, NDArrayIndex}\n",
    "import org.nd4j.linalg.ops.transforms.Transforms\n",
    "import org.nd4s.Implicits._\n",
    "import shapeless._\n",
    "\n",
    "import plotly._\n",
    "import plotly.element._\n",
    "import plotly.layout._\n",
    "import plotly.JupyterScala._\n",
    "\n",
    "import scala.collection.immutable.IndexedSeq\n",
    "object ReadCIFAR10ToNDArray {\n",
    "\n",
    "  /**\n",
    "    * 从CIFAR10文件中读图片和其对应的标签\n",
    "    *\n",
    "    * @param fileName CIFAR10文件名\n",
    "    * @param count    要读取多少个图片和其标签\n",
    "    * @return input :: expectedOutput :: HNil\n",
    "    */\n",
    "  def readFromResource(fileName: String,\n",
    "                       count: Int): INDArray :: INDArray :: HNil = {\n",
    "    //if you are using IDE\n",
    "    //val inputStream = getClass.getResourceAsStream(fileName)\n",
    "\n",
    "    //if you are using jupyter notebook,please use this\n",
    "    val inputStream = new FileInputStream(sys.env(\"PWD\") + \"/src/main/resources\" + fileName)\n",
    "    try {\n",
    "      val bytes = Array.range(0, 3073 * count).map(_.toByte)\n",
    "      inputStream.read(bytes)\n",
    "\n",
    "      val labels: Seq[Double] = for {\n",
    "        index <- 0 until count\n",
    "      } yield bytes(index * 3073).toDouble\n",
    "\n",
    "      val pixels: Seq[Seq[Double]] =\n",
    "        for (index <- 0 until count)\n",
    "          yield {\n",
    "            for {\n",
    "              item <- 1 until 3073\n",
    "            } yield normalizePixel(bytes(index * 3073 + item).toDouble)\n",
    "          }\n",
    "\n",
    "      val labelsArray = labels.toNDArray.reshape(count, 1)\n",
    "      val pixelsArray = pixels.toNDArray\n",
    "\n",
    "      pixelsArray :: labelsArray :: HNil\n",
    "    } finally {\n",
    "      inputStream.close()\n",
    "    }\n",
    "  }\n",
    "\n",
    "    /**\n",
    "    * 归一化pixel数据\n",
    "    *\n",
    "    * @param pixel\n",
    "    * @return\n",
    "    */\n",
    "  def normalizePixel(pixel: Double): Double = {\n",
    "    (if (pixel < 0) {\n",
    "      pixel + 256\n",
    "    } else {\n",
    "      pixel\n",
    "    }) / 256\n",
    "  }\n",
    "\n",
    "  /**\n",
    "    * 目的是将存储数据的文件读取到内存中，以后就从这里拿数据，避免了频繁的读取文件。\n",
    "    *\n",
    "    */\n",
    "  lazy val fileBytesSeq: IndexedSeq[Array[Byte]] = {\n",
    "    for {\n",
    "      fileIndex <- 1 to 5\n",
    "      //if you are using IDE\n",
    "      //inputStream = getClass.getResourceAsStream(\"/cifar-10-batches-bin/data_batch_\" + fileIndex + \".bin\")\n",
    "\n",
    "      //if you are using jupyter notebook,please use this\n",
    "      inputStream = new FileInputStream(sys.env(\"PWD\") + \"/src/main/resources\" + \"/cifar-10-batches-bin/data_batch_\" + fileIndex + \".bin\")\n",
    "    } yield readFromInputStream(inputStream)\n",
    "  }\n",
    "\n",
    "  /**\n",
    "    * 从inputStream中读取byte\n",
    "    *\n",
    "    * @param inputStream\n",
    "    * @return\n",
    "    */\n",
    "  def readFromInputStream(inputStream: InputStream): Array[Byte] = {\n",
    "    try {\n",
    "      val bytes = Array.range(0, 3073 * 10000).map(_.toByte)\n",
    "      inputStream.read(bytes)\n",
    "      bytes\n",
    "    } finally {\n",
    "      inputStream.close()\n",
    "    }\n",
    "  }\n",
    "\n",
    "  /**\n",
    "    * 随机获取count个train数据\n",
    "    *\n",
    "    * @return\n",
    "    */\n",
    "  def getSGDTrainNDArray(count: Int): INDArray :: INDArray :: HNil = {\n",
    "    //生成0到4的随机数\n",
    "    val randomIndex = (new util.Random).nextInt(5)\n",
    "\n",
    "    val bytes = fileBytesSeq(randomIndex)\n",
    "\n",
    "    val indexList = randomList(10000, count)\n",
    "\n",
    "    val labels: Seq[Double] = for (index <- 0 until count)\n",
    "      yield bytes(indexList(index) * 3073).toDouble\n",
    "\n",
    "    val pixels: Seq[Seq[Double]] = for (index <- 0 until count)\n",
    "      yield {\n",
    "        for (pixelItem <- 1 until 3073)\n",
    "          yield normalizePixel(bytes(indexList(index) * 3073 + pixelItem).toDouble)\n",
    "      }\n",
    "\n",
    "    val labelsNDArray = labels.toNDArray.reshape(count, 1)\n",
    "    val pixelsNDArray = pixels.toNDArray\n",
    "\n",
    "    pixelsNDArray :: labelsNDArray :: HNil\n",
    "  }\n",
    "\n",
    "  /**\n",
    "    * 从固定范围内获取count个数字组成的集合\n",
    "    *\n",
    "    * @param arrange 范围\n",
    "    * @param count   个数\n",
    "    * @return\n",
    "    */\n",
    "  def randomList(arrange: Int, count: Int): List[Int] = {\n",
    "    var resultList: List[Int] = Nil\n",
    "    while (resultList.length < count) {\n",
    "      val randomNum = (new util.Random).nextInt(arrange)\n",
    "      if (!resultList.contains(randomNum)) {\n",
    "        resultList = resultList ::: List(randomNum)\n",
    "      }\n",
    "    }\n",
    "    resultList\n",
    "  }\n",
    "}"
   ]
  },
  {
   "cell_type": "markdown",
   "metadata": {
    "collapsed": false
   },
   "source": [
    "5.[Mini-Batch Gradient Descent](https://en.wikipedia.org/wiki/Stochastic_gradient_descent): 在大规模数据训练时，数据可以达到百万级量级。如果计算整个训练集，来获得仅仅一个参数的更新速度就太慢了。一个常用的方法是计算训练集中的小批量（batches）数据以提升参数更新速度。\n",
    "\n",
    "   \n",
    "6.如果你使用IntelliJ或者eclipse等其它IDE，智能提示可能会失效，代码有部分可能会爆红，这是IDE的问题，代码本身并无问题。\n",
    "   "
   ]
  },
  {
   "cell_type": "markdown",
   "metadata": {
    "collapsed": true
   },
   "source": [
    "## 构建神经网络\n",
    "\n",
    "1.新建一个Scala类MiniBatchGradientDescent\n",
    "\n",
    "2.从CIFAR10 database中读取测试数据的图片和标签信息，注意：这里和与SoftmaxLinearClassifier中不同"
   ]
  },
  {
   "cell_type": "code",
   "execution_count": null,
   "metadata": {
    "collapsed": false
   },
   "outputs": [],
   "source": [
    "//CIFAR10中的图片共有10个分类(airplane,automobile,bird,cat,deer,dog,frog,horse,ship,truck)\n",
    "  val CLASSES: Int = 10\n",
    "\n",
    "  //加载测试数据，我们读取100条作为测试数据\n",
    "  val testNDArray =\n",
    "    ReadCIFAR10ToNDArray.readFromResource(\"/cifar-10-batches-bin/test_batch.bin\", 100)"
   ]
  },
  {
   "cell_type": "markdown",
   "metadata": {},
   "source": [
    "3.编写处理标签数据的工具方法，将N行一列的NDArray转换为N行CLASSES列的NDArray，每行对应的正确分类的值为1，其它列的值为0。这样做是为了向cross-entropy loss公式靠拢"
   ]
  },
  {
   "cell_type": "code",
   "execution_count": null,
   "metadata": {
    "collapsed": false
   },
   "outputs": [],
   "source": [
    "/**\n",
    "    * 处理标签数据：将N行一列的NDArray转换为N行CLASSES列的NDArray，每行对应的正确分类的值为1，其它列的值为0\n",
    "    *\n",
    "    * @param ndArray 标签数据\n",
    "    * @return N行CLASSES列的NDArray\n",
    "    */\n",
    "  def makeVectorized(ndArray: INDArray): INDArray = {\n",
    "    val shape = ndArray.shape()\n",
    "\n",
    "    val p = Nd4j.zeros(shape(0), CLASSES)\n",
    "    for (i <- 0 until shape(0)) {\n",
    "      val double = ndArray.getDouble(i, 0)\n",
    "      val column = double.toInt\n",
    "      p.put(i, column, 1)\n",
    "    }\n",
    "    p\n",
    "  }"
   ]
  },
  {
   "cell_type": "markdown",
   "metadata": {},
   "source": [
    "4.分离和处理图像和标签数据，注意：这里和与SoftmaxLinearClassifier中不同"
   ]
  },
  {
   "cell_type": "code",
   "execution_count": null,
   "metadata": {
    "collapsed": false
   },
   "outputs": [],
   "source": [
    "val test_data = testNDArray.head\n",
    "\n",
    "  val test_expect_result = testNDArray.tail.head\n",
    "  \n",
    "  val test_p = makeVectorized(test_expect_result)"
   ]
  },
  {
   "cell_type": "markdown",
   "metadata": {},
   "source": [
    "5.编写softmax函数,和准备一节中的softmax公式对应"
   ]
  },
  {
   "cell_type": "code",
   "execution_count": null,
   "metadata": {
    "collapsed": false
   },
   "outputs": [],
   "source": [
    "def softmax(implicit scores: From[INDArray] ##T): To[INDArray] ##T = {\n",
    "    val expScores = exp(scores)\n",
    "    expScores / expScores.sum(1)\n",
    "  }"
   ]
  },
  {
   "cell_type": "markdown",
   "metadata": {},
   "source": [
    "6.跟定义一个方法一样定义一个神经网络并初始化Weight，Weight应该是一个N*CLASSES的INDArray,每个图片对应每个分类都有一个评分。[什么是Weight](https://github.com/ThoughtWorksInc/DeepLearning.scala/wiki/Getting-Started#231--weight-intialization)"
   ]
  },
  {
   "cell_type": "code",
   "execution_count": null,
   "metadata": {
    "collapsed": false
   },
   "outputs": [],
   "source": [
    "def createMyNeuralNetwork(implicit input: From[INDArray] ##T): To[INDArray] ##T = {\n",
    "    val initialValueOfWeight = Nd4j.randn(3072, CLASSES) * 0.001\n",
    "    val weight: To[INDArray] ##T = initialValueOfWeight.toWeight\n",
    "    val result: To[INDArray] ##T = input dot weight\n",
    "    softmax.compose(result) //对结果调用softmax方法，压缩结果值在0到1之间方便处理\n",
    "  }\n",
    "  val myNeuralNetwork: FromTo[INDArray, INDArray] ##T = createMyNeuralNetwork"
   ]
  },
  {
   "cell_type": "markdown",
   "metadata": {},
   "source": [
    "7.设置学习率，学习率是Weight变化的快慢的直观描述，学习率设置的过小会导致loss下降的很慢，需要更长时间来训练，学习率设置的过大虽然刚开始下降很快但是会导致在接近最低点的时候在附近徘徊loss下降会非常慢。"
   ]
  },
  {
   "cell_type": "code",
   "execution_count": null,
   "metadata": {
    "collapsed": false
   },
   "outputs": [],
   "source": [
    "implicit def optimizer: Optimizer = new LearningRate {\n",
    "    def currentLearningRate() = 0.00001\n",
    "  }"
   ]
  },
  {
   "cell_type": "markdown",
   "metadata": {},
   "source": [
    "8.编写损失函数Loss Function，将此次判断的结果和真实结果进行计算得出cross-entropy loss并返回"
   ]
  },
  {
   "cell_type": "code",
   "execution_count": null,
   "metadata": {
    "collapsed": false
   },
   "outputs": [],
   "source": [
    "  def lossFunction(implicit pair: From[INDArray :: INDArray :: HNil] ##T): To[Double] ##T = {\n",
    "    val input = pair.head\n",
    "    val expectedOutput = pair.tail.head\n",
    "    val probabilities = myNeuralNetwork.compose(input)\n",
    "\n",
    "    -(expectedOutput * log(probabilities)).sum //此处和准备一节中的交叉熵损失对应\n",
    "  }"
   ]
  },
  {
   "cell_type": "markdown",
   "metadata": {},
   "source": [
    "9.训练神经网络并观察每次训练loss的变化，loss的变化趋势是降低，但是不是每次都降低(前途是光明的，道路是曲折的)"
   ]
  },
  {
   "cell_type": "code",
   "execution_count": null,
   "metadata": {
    "collapsed": false
   },
   "outputs": [],
   "source": [
    "  var lossSeq: Seq[Double] = Nil \n",
    "  for (_ <- 0 until 2000) {\n",
    "    val trainNDArray = ReadCIFAR10ToNDArray.getSGDTrainNDArray(256)\n",
    "    val loss = lossFunction.train(trainNDArray.head :: makeVectorized(trainNDArray.tail.head) :: HNil)\n",
    "    lossSeq = lossSeq :+ loss.toString.toDouble\n",
    "  }\n",
    "\n",
    "  plotly.JupyterScala.init()\n",
    "  val plot = Seq(\n",
    "    Scatter(\n",
    "      0 until 2000 by 1,\n",
    "      lossSeq\n",
    "    )\n",
    "  )\n",
    "\n",
    "  plot.plot(\n",
    "    title = \"loss on time\"\n",
    "  )"
   ]
  },
  {
   "cell_type": "markdown",
   "metadata": {},
   "source": [
    "10.使用训练后的神经网络判断测试数据的标签"
   ]
  },
  {
   "cell_type": "code",
   "execution_count": null,
   "metadata": {
    "collapsed": false
   },
   "outputs": [],
   "source": [
    "val result = myNeuralNetwork.predict(test_data)\n",
    "  println(s\"result: $result\") //输出判断结果"
   ]
  },
  {
   "cell_type": "markdown",
   "metadata": {},
   "source": [
    "11.编写工具方法，从一行INDArray中获得值最大的元素所在的列，目的是获得神经网络判断的结果，方便和原始标签比较以得出正确率。"
   ]
  },
  {
   "cell_type": "code",
   "execution_count": null,
   "metadata": {
    "collapsed": false
   },
   "outputs": [],
   "source": [
    "/**\n",
    "    * 从一行INDArray中获得值最大的元素所在的列\n",
    "    * @param iNDArray\n",
    "    * @return\n",
    "    */\n",
    "  def findMaxItemIndex(iNDArray: INDArray): Int = {\n",
    "    val shape = iNDArray.shape()\n",
    "    val col = shape(1)\n",
    "    var maxValue = 0.0\n",
    "    var maxIndex = 0\n",
    "    for (index <- 0 until col) {\n",
    "      val itemValue = iNDArray.getDouble(0, index)\n",
    "      if (itemValue > maxValue) {\n",
    "        maxValue = itemValue\n",
    "        maxIndex = index\n",
    "      }\n",
    "    }\n",
    "    maxIndex\n",
    "  }"
   ]
  },
  {
   "cell_type": "markdown",
   "metadata": {},
   "source": [
    "12.判断神经网络对测试数据分类判断的正确率，正确率应该在40%左右。"
   ]
  },
  {
   "cell_type": "code",
   "execution_count": null,
   "metadata": {
    "collapsed": false
   },
   "outputs": [],
   "source": [
    "var right = 0\n",
    "\n",
    "  val shape = result.shape()\n",
    "  for (row <- 0 until shape(0)) {\n",
    "    val rowItem = result.getRow(row)\n",
    "    val index = findMaxItemIndex(rowItem)\n",
    "    if (index == test_expect_result.getDouble(row, 0)) {\n",
    "      right += 1\n",
    "    }\n",
    "  }\n",
    "  println(s\"the result is $right %\")"
   ]
  },
  {
   "cell_type": "markdown",
   "metadata": {},
   "source": [
    "\n",
    "13.[完整代码](https://github.com/izhangzhihao/deeplearning-tutorial/blob/master/src/main/scala/com/thoughtworks/deeplearning/tutorial/MiniBatchGradientDescent.scala)"
   ]
  }
 ],
 "metadata": {
  "kernelspec": {
   "display_name": "Scala",
   "language": "scala",
   "name": "scala"
  },
  "language_info": {
   "codemirror_mode": "text/x-scala",
   "file_extension": ".scala",
   "mimetype": "text/x-scala",
   "name": "scala211",
   "nbconvert_exporter": "scala",
   "pygments_lexer": "scala",
   "version": "2.11.8"
  }
 },
 "nbformat": 4,
 "nbformat_minor": 0
}
